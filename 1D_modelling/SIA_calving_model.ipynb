{
 "cells": [
  {
   "cell_type": "markdown",
   "id": "e57de57d-b4b5-41a7-8b97-ce05bb2e9b76",
   "metadata": {},
   "source": [
    "# SIA calving model\n",
    "\n",
    "Implementation of a simple calving law. The notebook starts by solving for basal elevation. Once the bed is determined, we forward model with calving.\n",
    "\n",
    "The inversion follows the approach of [van Pelt et al. (2013)](https://tc.copernicus.org/articles/7/987/2013/), iteratively adjusting the bed to minimize the surface misfit after forward modeling. The procedure is implemented using the [centerflow](https://github.com/chrismiele/glimmer/blob/main/1D_modelling/centerflow.ipynb) package, which is built on top of Firedrake and icepack. \n",
    "\n",
    "Start by choosing a glacier:"
   ]
  },
  {
   "cell_type": "code",
   "execution_count": 1,
   "id": "1630019f-421d-4c68-b7f9-0ae03c8f2e18",
   "metadata": {},
   "outputs": [],
   "source": [
    "name = 'Luggye' #choose your glacier from the list below, or add to it\n",
    "\n",
    "freeboard = 50 #how high is the water level relative to the terminus?\n",
    "c = -0.1 #tuning parameter for calving law"
   ]
  },
  {
   "cell_type": "markdown",
   "id": "bdbb21a4-3e3b-43da-a394-f104e9311093",
   "metadata": {},
   "source": [
    "## Glacier identification\n",
    "\n",
    "Hard coding IDs for Bechung, Thorthormi, Rahpstreng, and Luggye. For other glaciers, it will be necessary to find their RGIIDs from v. 7."
   ]
  },
  {
   "cell_type": "code",
   "execution_count": 2,
   "id": "86e739ab-1bcd-4ebc-95e9-60d172479c1e",
   "metadata": {},
   "outputs": [],
   "source": [
    "glaciers = {\n",
    "    'Luggye': {\n",
    "        'name': 'Luggye',\n",
    "        'rgiid_7': '15-09534',\n",
    "    },\n",
    "    'Raphstreng': {\n",
    "        'name': 'Raphstreng',\n",
    "        'rgiid_7': '15-09531',\n",
    "    },\n",
    "    'Thorthormi': {\n",
    "        'name': 'Thorthormi',\n",
    "        'rgiid_7': '15-09532',\n",
    "    },\n",
    "    'Bechung': {\n",
    "        'name': 'Bechung',\n",
    "        'rgiid_7': '15-09530',\n",
    "    }\n",
    "}"
   ]
  },
  {
   "cell_type": "markdown",
   "id": "7908b78f-1959-47d1-9750-a07994d7c602",
   "metadata": {},
   "source": [
    "## Imports"
   ]
  },
  {
   "cell_type": "code",
   "execution_count": 3,
   "id": "5da09df8-f094-49e8-bb88-11eb466410f5",
   "metadata": {},
   "outputs": [],
   "source": [
    "from firedrake import *\n",
    "import icepack\n",
    "import matplotlib.pyplot as plt\n",
    "from matplotlib.cm import ScalarMappable\n",
    "from matplotlib.colors import Normalize\n",
    "import numpy as np\n",
    "import os\n",
    "import pandas as pd\n",
    "from tqdm import trange\n",
    "\n",
    "os.chdir('/eejit/home/bezu0001/icepack/notebooks/GLIMMER/1D_modelling')\n",
    "from centerflow import *"
   ]
  },
  {
   "cell_type": "markdown",
   "id": "74b596cd-d9a0-49d9-9e89-293646920ff7",
   "metadata": {},
   "source": [
    "## Paths"
   ]
  },
  {
   "cell_type": "code",
   "execution_count": 4,
   "id": "2a49af18-0ae1-4a47-be8f-d2f44717ac04",
   "metadata": {},
   "outputs": [],
   "source": [
    "rgiid_7 = glaciers[name]['rgiid_7']\n",
    "base_path = '/eejit/home/bezu0001/data/'\n",
    "centerline_path = base_path + 'centerlines/RGI2000-v7.0-L-15_south_asia_east/RGI2000-v7.0-L-15_south_asia_east.shp'\n",
    "outline_path = base_path + 'outlines/RGI2000-v7.0-G-15_south_asia_east/RGI2000-v7.0-G-15_south_asia_east.shp'\n",
    "outline6_path = base_path + 'outlines/nsidc0770_15.rgi60.SouthAsiaEast/15_rgi60_SouthAsiaEast.shp'\n",
    "\n",
    "rgiid_6 = rgi6_from_rgi7(rgiid = rgiid_7, rgi7_path = outline_path, rgi6_path = outline6_path)\n",
    "latlon = latlon_from_rgi7(rgiid = rgiid_7, rgi7_path = outline_path)\n",
    "\n",
    "velocity_path = base_path + f'velocity/{rgiid_7}/MedianVelocity_2006.tif'\n",
    "thickness_path = base_path + f'thickness/farinotti_ensemble/RGI60-{rgiid_6}_thickness.tif'\n",
    "smb_path = base_path + 'smb/dussailant/ASE_gla_MEAN-CAL-mass-change-series_obs_unobs.csv'\n",
    "# smb_path = base_path + 'smb/karma/prf_glacier_ctl.csv'\n",
    "\n",
    "dem_path = base_path + f'elevation/farinotti/surface_DEM_RGI60-{rgiid_6}.tif'\n",
    "dem_year = 2017 #the year corresponding to the DEM (probably somewhat earlier than RGI6, which was released in 2017)\n",
    "start_year, end_year = 2010, 2020\n",
    "\n",
    "dhdt_path = base_path + f'elevation/elevation_change/{start_year}_2020_dhdt/{latlon}_{start_year}-01-01_2020-01-01_dhdt.tif'\n",
    "figures_path = '/eejit/home/bezu0001/icepack/figures/lake_calving'"
   ]
  },
  {
   "cell_type": "markdown",
   "id": "ddc76631-6e75-4e21-a28e-af300201d13b",
   "metadata": {},
   "source": [
    "## Load data"
   ]
  },
  {
   "cell_type": "code",
   "execution_count": 5,
   "id": "83319226-51cc-4b86-bbe9-8c3b20fa9566",
   "metadata": {},
   "outputs": [
    {
     "name": "stdout",
     "output_type": "stream",
     "text": [
      "cell size =  9.094884980707148 metres\n",
      "Reprojecting /eejit/home/bezu0001/data/thickness/farinotti_ensemble/RGI60-15.02373_thickness.tif from EPSG:32646 to EPSG:4326\n",
      "Reprojecting /eejit/home/bezu0001/data/elevation/farinotti/surface_DEM_RGI60-15.02373.tif from EPSG:32646 to EPSG:4326\n",
      "Reprojecting /eejit/home/bezu0001/data/elevation/farinotti/surface_DEM_RGI60-15.02373.tif from EPSG:32646 to EPSG:4326\n",
      "Reprojecting /eejit/home/bezu0001/data/velocity/15-09534/MedianVelocity_2006.tif from EPSG:32646 to EPSG:4326\n",
      "Reprojecting /eejit/home/bezu0001/data/elevation/elevation_change/2010_2020_dhdt/N28E090_2010-01-01_2020-01-01_dhdt.tif from EPSG:32646 to EPSG:4326\n",
      "mean thinning rate: -0.4623052503722102 meters per year\n"
     ]
    }
   ],
   "source": [
    "n_cells = 1000\n",
    "Δx = 500 #give the data an initial couple hundred meters initially, just in case the glacier ends up advancing. \n",
    "mesh = centerline_mesh(rgiid = rgiid_7, centerline_path = centerline_path, outline_path = outline_path, n_cells = n_cells, extra_length = Δx)\n",
    "mesh = crop_mesh(mesh = mesh, data_path = dem_path) #for cases where the DEM doesn't cover the entire flowline\n",
    "X = mesh.X\n",
    "cell_size = mesh.glacier_length/n_cells\n",
    "print('cell size = ', cell_size, 'metres')\n",
    "smoothing_params = {'window': mesh.glacier_length/4, 'mesh': mesh}\n",
    "\n",
    "thickness = map_to_mesh(mesh = mesh, data_path = thickness_path)\n",
    "dem = map_to_mesh(mesh = mesh, data_path = dem_path)\n",
    "bed_val = dem.last_nonzero_value - thickness.last_nonzero_value #obtain the bed value at the last on-glacier location\n",
    "dem = map_to_mesh(mesh = mesh, data_path = dem_path, ice_free_value = bed_val) #and use it to refine the final on-glacier dem value\n",
    "\n",
    "# smb = map_to_mesh(mesh = mesh, data_path = smb_path, key_value = ' altitude', key_dataset = dem.data, data_value = 'ave_mb')\n",
    "\n",
    "try:\n",
    "    velocity = map_to_mesh(mesh = mesh, data_path = velocity_path, ice_free_value = 0)\n",
    "except:\n",
    "    pass\n",
    "\n",
    "dH_dt = map_to_mesh(mesh = mesh, data_path = dhdt_path, ice_free_value = 0)\n",
    "dHdt_smoothed = smooth_function(function = dH_dt.data, **smoothing_params)\n",
    "mean_dHdt  = float(assemble(dH_dt.data*dx)/mesh.glacier_length)\n",
    "\n",
    "Q = dem.data.function_space()\n",
    "print('mean thinning rate:', mean_dHdt, 'meters per year')"
   ]
  },
  {
   "cell_type": "markdown",
   "id": "1f267119-2afd-488e-b66c-2241e52cc637",
   "metadata": {},
   "source": [
    "## Initialize the flow model"
   ]
  },
  {
   "cell_type": "code",
   "execution_count": 6,
   "id": "6b3873fe-9145-4a29-8ee3-be16343eb708",
   "metadata": {},
   "outputs": [],
   "source": [
    "T = 273.15 - 0 #ice temperature (K), assumed isothermal\n",
    "A = Constant(icepack.rate_factor(T))\n",
    "\n",
    "opts = {\n",
    "    'dirichlet_ids': [1] \n",
    "}\n",
    "\n",
    "flow_model = icepack.models.ShallowIce()\n",
    "flow_solver = icepack.solvers.FlowSolver(flow_model, **opts)\n",
    "\n",
    "Δt = 1/10\n",
    "num_timesteps = int((end_year - start_year)/Δt)"
   ]
  },
  {
   "cell_type": "markdown",
   "id": "d01bfc8e-4959-4a07-ad6c-0bd8368671d6",
   "metadata": {},
   "source": [
    "## Initialize reference surfaces"
   ]
  },
  {
   "cell_type": "code",
   "execution_count": 7,
   "id": "908ac5d6-218d-41f3-a2f3-14a50ad60ca5",
   "metadata": {},
   "outputs": [],
   "source": [
    "s_1 = dem.data.copy(deepcopy = True)\n",
    "s_1.year = dem_year\n",
    "\n",
    "s_0 = Function(Q).project(s_1 - dHdt_smoothed*(dem_year - start_year))\n",
    "s_0.year = start_year\n",
    "\n",
    "s_2 = Function(Q).project(dem.data + dHdt_smoothed*(end_year - dem_year))\n",
    "s_2.year = end_year\n",
    "\n",
    "u = Function(Q).project(Constant(0))"
   ]
  },
  {
   "cell_type": "markdown",
   "id": "3de80f79-a587-4f9d-b805-f96cfe1a5a0d",
   "metadata": {},
   "source": [
    "## Initialize SMB data\n",
    "\n",
    "SMB data consist of single glacier-averaged values at each timestep. The inversion performs poorly with data this coarse. We can create slightly more realistic data by assuming that SMB varies with elevation via some lapse rate, and we construct a spatially variable SMB field whose spatial average is the appropriate value. The lapse rate is chosen so that the spread in SMB values is similar to the spread in the observed thinning rate. "
   ]
  },
  {
   "cell_type": "code",
   "execution_count": 8,
   "id": "188142d1-45af-43c7-b654-040103a523c3",
   "metadata": {},
   "outputs": [],
   "source": [
    "df = pd.read_csv(smb_path)\n",
    "row = df.loc[df[\"RGIId\"] == f'RGI60-{rgiid_6}']\n",
    "\n",
    "dem_adjusted = Function(Q).project(dem.data - dem.last_nonzero_value) #shift DEM so that the glacier front is at 0\n",
    "lapse_rate = 0.003 #obtained by trial and error\n",
    "\n",
    "smb_expr = lapse_rate*dem_adjusted #SMB is of the form smb = a*elevation + b, where a is the lapse rate and b is to be determined\n",
    "temp_mean = assemble(smb_expr*dx)/mesh.glacier_length #the spatial mean of the expression smb = a*elevation + 0, which will need correcting\n",
    "\n",
    "smb_dict = {} #list of glacier-wide specific SMB values (one per year)\n",
    "for step in range(num_timesteps):\n",
    "    decimal_year = s_0.year + step*Δt\n",
    "    int_year = s_0.year + int(step*Δt)\n",
    "    smb_mean = float(row[str(int_year)].iloc[0])\n",
    "    b = smb_mean - temp_mean #how far off is our guess?\n",
    "    entry = Function(Q).project(smb_expr + b) #adjust by this much\n",
    "    smb_dict[decimal_year] = entry"
   ]
  },
  {
   "cell_type": "markdown",
   "id": "df324c07-24c9-4276-9042-1579836ababf",
   "metadata": {},
   "source": [
    "## Invert for basal topography"
   ]
  },
  {
   "cell_type": "code",
   "execution_count": 9,
   "id": "ae84b6b6-5f2f-4c67-b472-1f3e8b3174ae",
   "metadata": {},
   "outputs": [
    {
     "name": "stderr",
     "output_type": "stream",
     "text": [
      "100%|███████████████████████████████████████████████████████████████████████████████| 50/50 [01:35<00:00,  1.91s/it]\n"
     ]
    }
   ],
   "source": [
    "surface_1 = s_0\n",
    "surface_2 = s_2\n",
    "\n",
    "inversion_params = {\n",
    "    'model': flow_model,\n",
    "    'solver': flow_solver,\n",
    "    'mesh': mesh,\n",
    "    'fluidity': A,\n",
    "    'surface': surface_1,\n",
    "    'surface_2': surface_2,\n",
    "    'accumulation': smb_dict,\n",
    "}\n",
    "    \n",
    "inversion = solve_bed(K = 0.1, num_iterations = 50, thickness_guess = firedrake.Constant(200), velocity = u, \n",
    "                      **inversion_params)"
   ]
  },
  {
   "cell_type": "markdown",
   "id": "fa1d0a9c-358d-4c60-99f9-9dd7a51a7030",
   "metadata": {},
   "source": [
    "## Calving modeling\n",
    "\n",
    "We implement the simple calving law similar to that introduced by [Oerlemans and Nick, 2005](https://www.cambridge.org/core/journals/annals-of-glaciology/article/minimal-model-of-a-tidewater-glacier/C6B72F547D8C44CDAAAD337E1F2FC97F), in which the calving flux, in cubic meters per year, is given as \n",
    "\n",
    "$$ F_c = cdH_tw_t $$\n",
    "\n",
    "where $d$ is water depth, $H_t$ is terminus thickness, $w_t$ is the terminus width, and $c$ is a tuning parameter whose units are a$^{-1}$. We modify this to a calving rate $u_c$ by dividing out the width dimension, and normalizing via:\n",
    "\n",
    "$$u_c = c\\sqrt{dH_t}.$$\n",
    "\n",
    "We begine by specifying a given lake level, with water depth the difference between that level and the bed. At each timestep, we assume the glacier incrementally moves forward in accordance with its terminal velocity, and that it moves backward (if applicable) in accordance with the calving rate specified above."
   ]
  },
  {
   "cell_type": "code",
   "execution_count": 10,
   "id": "51182154-8544-4f78-89d1-7513e34003df",
   "metadata": {},
   "outputs": [
    {
     "name": "stdout",
     "output_type": "stream",
     "text": [
      "initial water depth = 116.245869522028 m\n"
     ]
    }
   ],
   "source": [
    "mesh_0 = mesh\n",
    "mesh_1 = mesh\n",
    "mesh_2 = mesh\n",
    "\n",
    "ΣΔx = -700\n",
    "s = surface_1.copy(deepcopy = True)\n",
    "bed_0 = inversion.bed\n",
    "Q = bed_0.function_space()\n",
    "bed = bed_0.copy(deepcopy = True)\n",
    "bed0_array = np.array(bed_0.at(mesh_0.X, tolerance = 1e-10))\n",
    "u = inversion.velocity\n",
    "H = Function(Q).project(s - bed)\n",
    "H_0 = Constant(H.at(0))\n",
    "\n",
    "w = s.at(mesh.mesh_length) - freeboard #water level\n",
    "d = Function(Q).project(w - bed)\n",
    "d = Function(Q).project(max_value(d, 0))\n",
    "a = Function(Q).project(smb_dict[surface_1.year + step*Δt])\n",
    "print(f'initial water depth = {d.at(mesh_1.mesh_length)} m')\n",
    "\n",
    "os.chdir(figures_path)\n",
    "calving_rates = []\n",
    "advance_rates = []\n",
    "\n",
    "model_time = surface_2.year - surface_1.year"
   ]
  },
  {
   "cell_type": "code",
   "execution_count": 11,
   "id": "9ae8a915-638f-4b3e-a68f-5b1e7a7a02c6",
   "metadata": {},
   "outputs": [
    {
     "name": "stderr",
     "output_type": "stream",
     "text": [
      "100%|█████████████████████████████████████████████████████████████████████████████| 100/100 [03:38<00:00,  2.19s/it]\n"
     ]
    }
   ],
   "source": [
    "num_timesteps = int(model_time/Δt)\n",
    "for step in trange(num_timesteps):\n",
    "\n",
    "    H_t = H.at(mesh_1.mesh_length)\n",
    "    s_t = s.at(mesh_1.mesh_length)\n",
    "    d = Function(Q).project(w - bed)\n",
    "    d_t = d.at(mesh_1.mesh_length)\n",
    "    u_t = u.at(mesh_1.mesh_length)\n",
    "    advance_rates.append(u_t)\n",
    "    a_t = a.at(mesh_1.mesh_length)\n",
    "    \n",
    "    \n",
    "    u_c = c*np.sqrt(max(H_t*d_t, 0))\n",
    "    calving_rates.append(u_c)\n",
    "    Δx = ((u_c + u_t)*Δt)\n",
    "    ΣΔx += Δx\n",
    "    \n",
    "    mesh_2 = centerline_mesh(rgiid = rgiid_7, centerline_path = centerline_path, outline_path = outline_path, n_cells = n_cells, extra_length = ΣΔx)\n",
    "    bed = extend_to_mesh(source_function = bed_0, source_mesh = mesh_0, target_mesh = mesh_2).data\n",
    "    s = extend_to_mesh(source_function = s, source_mesh = mesh_1, target_mesh = mesh_2, ice_free_value = s_t).data\n",
    "    H = extend_to_mesh(source_function = H, source_mesh = mesh_1, target_mesh = mesh_2, ice_free_value = H_t).data\n",
    "    d = extend_to_mesh(source_function = d, source_mesh = mesh_1, target_mesh = mesh_2, ice_free_value = d_t).data\n",
    "    u = extend_to_mesh(source_function = u, source_mesh = mesh_1, target_mesh = mesh_2, ice_free_value = u_t).data\n",
    "    a = extend_to_mesh(source_function = smb_dict[surface_1.year + step*Δt], source_mesh = mesh_0, target_mesh = mesh_2, ice_free_value = a_t).data\n",
    "    mesh_1 = mesh_2\n",
    "    \n",
    "    Q = s.function_space()\n",
    "    \n",
    "    flow_model = icepack.models.ShallowIce()\n",
    "    flow_solver = icepack.solvers.FlowSolver(flow_model, **opts)\n",
    "    \n",
    "    u = flow_solver.diagnostic_solve(velocity = u, thickness = H, surface = s, fluidity = A)\n",
    "    H = flow_solver.prognostic_solve(Δt, thickness = H, velocity = u, thickness_inflow = H_0, accumulation = a)\n",
    "    s = icepack.compute_surface(bed = bed, thickness = H)\n",
    "\n",
    "    bed_array = np.array(bed.at(mesh_1.X, tolerance = 1e-10))\n",
    "    s_array = np.array(s.at(mesh_1.X, tolerance = 1e-10))\n",
    "    water_mask = (w > bed0_array) & (mesh_0.X > mesh_1.mesh_length)\n",
    "    \n",
    "    \n",
    "    plt.figure()\n",
    "    plt.plot(mesh_1.X, s.at(mesh_1.X, tolerance = 1e-10), color = 'blue', label = 'surface')\n",
    "    plt.plot(mesh_0.X, bed_0.at(mesh_0.X, tolerance = 1e-10), color = 'k', label = 'bed')\n",
    "    plt.fill_between(mesh_1.X, bed_array, s_array, color = 'skyblue', alpha = 0.6, label = 'glacier ice')\n",
    "    plt.fill_between(mesh_0.X, bed0_array, w, color = 'blue', where = water_mask, label = 'water')\n",
    "    plt.legend(loc = 'upper right')\n",
    "    plt.xlabel('longitudinal coordinate (m)')\n",
    "    plt.ylabel('elevation (m)')\n",
    "    plt.xlim(7000, mesh_0.mesh_length)\n",
    "    plt.ylim(4300, 4800)\n",
    "    plt.grid()\n",
    "    plt.savefig(f'{step}') \n",
    "    if step < num_timesteps:\n",
    "        plt.close()\n",
    "    else:\n",
    "        plt.show()"
   ]
  },
  {
   "cell_type": "code",
   "execution_count": 12,
   "id": "18c2389d-7f76-47e2-9a7b-8d6db76474be",
   "metadata": {},
   "outputs": [
    {
     "data": {
      "image/png": "[encoded data removed]",
      "text/plain": [
       "<Figure size 1000x400 with 1 Axes>"
      ]
     },
     "metadata": {},
     "output_type": "display_data"
    }
   ],
   "source": [
    "plt.figure(figsize = (10, 4))\n",
    "plt.plot(mesh_1.X, s.at(mesh_1.X, tolerance = 1e-10), color = 'blue', label = 'surface')\n",
    "plt.plot(mesh_0.X, bed_0.at(mesh_0.X, tolerance = 1e-10), color = 'k', label = 'bed')\n",
    "plt.fill_between(mesh_1.X, bed_array, s_array, color = 'skyblue', alpha = 0.6, label = 'glacier ice')\n",
    "plt.fill_between(mesh_0.X, bed0_array, w, color = 'blue', where = water_mask, label = 'water')\n",
    "plt.legend(loc = 'upper right')\n",
    "plt.xlabel('longitudinal coordinate (m)')\n",
    "plt.ylabel('elevation (m)')\n",
    "plt.xlim(0, mesh_0.mesh_length)\n",
    "# plt.ylim(4300, 4800)\n",
    "plt.grid()\n",
    "plt.show()"
   ]
  }
 ],
 "metadata": {
  "kernelspec": {
   "display_name": "Python (dev2025)",
   "language": "python",
   "name": "dev2025"
  },
  "language_info": {
   "codemirror_mode": {
    "name": "ipython",
    "version": 3
   },
   "file_extension": ".py",
   "mimetype": "text/x-python",
   "name": "python",
   "nbconvert_exporter": "python",
   "pygments_lexer": "ipython3",
   "version": "3.12.10"
  }
 },
 "nbformat": 4,
 "nbformat_minor": 5
}
