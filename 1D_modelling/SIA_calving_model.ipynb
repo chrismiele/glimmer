{
 "cells": [
  {
   "cell_type": "markdown",
   "id": "e57de57d-b4b5-41a7-8b97-ce05bb2e9b76",
   "metadata": {},
   "source": [
    "# SIA calving model\n",
    "\n",
    "Implementation of a simple calving law. The notebook starts by solving for basal elevation. Once the bed is determined, we forward model with calving.\n",
    "\n",
    "The inversion follows the approach of [van Pelt et al. (2013)](https://tc.copernicus.org/articles/7/987/2013/), iteratively adjusting the bed to minimize the surface misfit after forward modeling. The procedure is implemented using the [centerflow](https://github.com/chrismiele/glimmer/blob/main/1D_modelling/centerflow.ipynb) package, which is built on top of Firedrake and icepack. \n",
    "\n",
    "Start by choosing a glacier:"
   ]
  },
  {
   "cell_type": "code",
   "execution_count": 1,
   "id": "1630019f-421d-4c68-b7f9-0ae03c8f2e18",
   "metadata": {},
   "outputs": [],
   "source": [
    "name = 'Luggye' #choose your glacier from the list below, or add to it\n",
    "\n",
    "freeboard = 30 #how high is the water level relative to the terminus?\n",
    "c = -1.0 #tuning parameter for calving law"
   ]
  },
  {
   "cell_type": "markdown",
   "id": "bdbb21a4-3e3b-43da-a394-f104e9311093",
   "metadata": {},
   "source": [
    "## Glacier identification\n",
    "\n",
    "Hard coding IDs for Bechung, Thorthormi, Rahpstreng, and Luggye. For other glaciers, it will be necessary to find their RGIIDs from v. 7."
   ]
  },
  {
   "cell_type": "code",
   "execution_count": 2,
   "id": "86e739ab-1bcd-4ebc-95e9-60d172479c1e",
   "metadata": {},
   "outputs": [],
   "source": [
    "glaciers = {\n",
    "    'Luggye': {\n",
    "        'name': 'Luggye',\n",
    "        'rgiid_7': '15-09534',\n",
    "    },\n",
    "    'Raphstreng': {\n",
    "        'name': 'Raphstreng',\n",
    "        'rgiid_7': '15-09531',\n",
    "    },\n",
    "    'Thorthormi': {\n",
    "        'name': 'Thorthormi',\n",
    "        'rgiid_7': '15-09532',\n",
    "    },\n",
    "    'Bechung': {\n",
    "        'name': 'Bechung',\n",
    "        'rgiid_7': '15-09530',\n",
    "    }\n",
    "}"
   ]
  },
  {
   "cell_type": "markdown",
   "id": "7908b78f-1959-47d1-9750-a07994d7c602",
   "metadata": {},
   "source": [
    "## Imports"
   ]
  },
  {
   "cell_type": "code",
   "execution_count": 3,
   "id": "5da09df8-f094-49e8-bb88-11eb466410f5",
   "metadata": {},
   "outputs": [],
   "source": [
    "from firedrake import *\n",
    "import icepack\n",
    "import matplotlib.pyplot as plt\n",
    "from matplotlib.cm import ScalarMappable\n",
    "from matplotlib.colors import Normalize\n",
    "import numpy as np\n",
    "import os\n",
    "import pandas as pd\n",
    "from tqdm import trange\n",
    "\n",
    "os.chdir('/eejit/home/bezu0001/icepack/notebooks/GLIMMER/1D_modelling')\n",
    "from centerflow import *"
   ]
  },
  {
   "cell_type": "markdown",
   "id": "74b596cd-d9a0-49d9-9e89-293646920ff7",
   "metadata": {},
   "source": [
    "## Paths"
   ]
  },
  {
   "cell_type": "code",
   "execution_count": 4,
   "id": "2a49af18-0ae1-4a47-be8f-d2f44717ac04",
   "metadata": {},
   "outputs": [],
   "source": [
    "rgiid_7 = glaciers[name]['rgiid_7']\n",
    "base_path = '/eejit/home/bezu0001/data/'\n",
    "centerline_path = base_path + 'centerlines/RGI2000-v7.0-L-15_south_asia_east/RGI2000-v7.0-L-15_south_asia_east.shp'\n",
    "outline_path = base_path + 'outlines/RGI2000-v7.0-G-15_south_asia_east/RGI2000-v7.0-G-15_south_asia_east.shp'\n",
    "outline6_path = base_path + 'outlines/nsidc0770_15.rgi60.SouthAsiaEast/15_rgi60_SouthAsiaEast.shp'\n",
    "\n",
    "rgiid_6 = rgi6_from_rgi7(rgiid = rgiid_7, rgi7_path = outline_path, rgi6_path = outline6_path)\n",
    "latlon = latlon_from_rgi7(rgiid = rgiid_7, rgi7_path = outline_path)\n",
    "\n",
    "velocity_path = base_path + f'velocity/{rgiid_7}/MedianVelocity_2006.tif'\n",
    "thickness_path = base_path + f'thickness/farinotti_ensemble/RGI60-{rgiid_6}_thickness.tif'\n",
    "smb_path = base_path + 'smb/dussailant/ASE_gla_MEAN-CAL-mass-change-series_obs_unobs.csv'\n",
    "# smb_path = base_path + 'smb/karma/prf_glacier_ctl.csv'\n",
    "\n",
    "dem_path = base_path + f'elevation/farinotti/surface_DEM_RGI60-{rgiid_6}.tif'\n",
    "dem_year = 2017 #the year corresponding to the DEM (probably somewhat earlier than RGI6, which was released in 2017)\n",
    "start_year, end_year = 2010, 2020\n",
    "\n",
    "dhdt_path = base_path + f'elevation/elevation_change/{start_year}_2020_dhdt/{latlon}_{start_year}-01-01_2020-01-01_dhdt.tif'\n",
    "figures_path = '/eejit/home/bezu0001/icepack/figures/lake_calving'"
   ]
  },
  {
   "cell_type": "markdown",
   "id": "ddc76631-6e75-4e21-a28e-af300201d13b",
   "metadata": {},
   "source": [
    "## Load data"
   ]
  },
  {
   "cell_type": "code",
   "execution_count": 5,
   "id": "83319226-51cc-4b86-bbe9-8c3b20fa9566",
   "metadata": {},
   "outputs": [
    {
     "name": "stdout",
     "output_type": "stream",
     "text": [
      "cell size =  85.94884980708618 metres\n",
      "Reprojecting /eejit/home/bezu0001/data/thickness/farinotti_ensemble/RGI60-15.02373_thickness.tif from EPSG:32646 to EPSG:4326\n",
      "Reprojecting /eejit/home/bezu0001/data/elevation/farinotti/surface_DEM_RGI60-15.02373.tif from EPSG:32646 to EPSG:4326\n",
      "Reprojecting /eejit/home/bezu0001/data/velocity/15-09534/MedianVelocity_2006.tif from EPSG:32646 to EPSG:4326\n",
      "Reprojecting /eejit/home/bezu0001/data/elevation/elevation_change/2010_2020_dhdt/N28E090_2010-01-01_2020-01-01_dhdt.tif from EPSG:32646 to EPSG:4326\n",
      "mean thinning rate: -0.4693897134118986 meters per year\n"
     ]
    }
   ],
   "source": [
    "n_cells = 100\n",
    "mesh = centerline_mesh(rgiid = rgiid_7, centerline_path = centerline_path, outline_path = outline_path, n_cells = n_cells)\n",
    "mesh = crop_mesh(mesh = mesh, data_path = dem_path) #for cases where the DEM doesn't cover the entire flowline\n",
    "X = mesh.X\n",
    "x_t = mesh.length\n",
    "cell_size = mesh.length/n_cells\n",
    "print('cell size = ', cell_size, 'metres')\n",
    "smoothing_params = {'window': mesh.length/4, 'mesh': mesh}\n",
    "\n",
    "thickness = map_to_mesh(mesh = mesh, data_path = thickness_path)\n",
    "dem = map_to_mesh(mesh = mesh, data_path = dem_path)\n",
    "dem = smooth_function(function = dem, window = 3*cell_size, mesh = mesh)\n",
    "\n",
    "try:\n",
    "    velocity = map_to_mesh(mesh = mesh, data_path = velocity_path, ice_free_value = 0)\n",
    "except:\n",
    "    pass\n",
    "\n",
    "dH_dt = map_to_mesh(mesh = mesh, data_path = dhdt_path)\n",
    "dHdt_smoothed = smooth_function(function = dH_dt, **smoothing_params)\n",
    "mean_dHdt  = float(assemble(dH_dt*dx)/mesh.length)\n",
    "\n",
    "Q = dem.function_space()\n",
    "print('mean thinning rate:', mean_dHdt, 'meters per year')"
   ]
  },
  {
   "cell_type": "markdown",
   "id": "1f267119-2afd-488e-b66c-2241e52cc637",
   "metadata": {},
   "source": [
    "## Initialize the flow model"
   ]
  },
  {
   "cell_type": "code",
   "execution_count": 6,
   "id": "6b3873fe-9145-4a29-8ee3-be16343eb708",
   "metadata": {},
   "outputs": [],
   "source": [
    "T = 273.15 - 0 #ice temperature (K), assumed isothermal\n",
    "A = Constant(icepack.rate_factor(T))\n",
    "\n",
    "opts = {\n",
    "    'dirichlet_ids': [1] \n",
    "}\n",
    "\n",
    "flow_model = icepack.models.ShallowIce()\n",
    "flow_solver = icepack.solvers.FlowSolver(flow_model, **opts)\n",
    "\n",
    "Δt = 1/10\n",
    "num_timesteps = int((end_year - start_year)/Δt)"
   ]
  },
  {
   "cell_type": "markdown",
   "id": "d01bfc8e-4959-4a07-ad6c-0bd8368671d6",
   "metadata": {},
   "source": [
    "## Initialize reference surfaces"
   ]
  },
  {
   "cell_type": "code",
   "execution_count": 7,
   "id": "908ac5d6-218d-41f3-a2f3-14a50ad60ca5",
   "metadata": {},
   "outputs": [],
   "source": [
    "s_1 = dem.copy(deepcopy = True)\n",
    "s_1.year = dem_year\n",
    "\n",
    "s_0 = Function(Q).project(s_1 - dHdt_smoothed*(dem_year - start_year))\n",
    "s_0.year = start_year\n",
    "\n",
    "s_2 = Function(Q).project(dem + dHdt_smoothed*(end_year - dem_year))\n",
    "s_2.year = end_year\n",
    "\n",
    "u = Function(Q).project(Constant(0))"
   ]
  },
  {
   "cell_type": "markdown",
   "id": "3de80f79-a587-4f9d-b805-f96cfe1a5a0d",
   "metadata": {},
   "source": [
    "## Initialize SMB data\n",
    "\n",
    "SMB data consist of single glacier-averaged values at each timestep. The inversion performs poorly with data this coarse. We can create slightly more realistic data by assuming that SMB varies with elevation via some lapse rate, and we construct a spatially variable SMB field whose spatial average is the appropriate value. The lapse rate is chosen so that the spread in SMB values is similar to the spread in the observed thinning rate. "
   ]
  },
  {
   "cell_type": "code",
   "execution_count": 8,
   "id": "188142d1-45af-43c7-b654-040103a523c3",
   "metadata": {},
   "outputs": [],
   "source": [
    "df = pd.read_csv(smb_path)\n",
    "row = df.loc[df['RGIId'] == f'RGI60-{rgiid_6}']\n",
    "\n",
    "dem_adjusted = Function(Q).project(dem - dem.at(x_t, tolerance = 1e-10)) #shift DEM so that the glacier front is at 0\n",
    "lapse_rate = 0.003 #obtained by trial and error\n",
    "\n",
    "smb_expr = lapse_rate*dem_adjusted #SMB is of the form smb = a*elevation + b, where a is the lapse rate and b is to be determined\n",
    "temp_mean = assemble(smb_expr*dx)/mesh.length #the spatial mean of the expression smb = a*elevation + 0, which will need correcting\n",
    "\n",
    "smb_dict = {} #list of glacier-wide specific SMB values (one per year)\n",
    "for step in range(num_timesteps):\n",
    "    decimal_year = s_0.year + step*Δt\n",
    "    int_year = s_0.year + int(step*Δt)\n",
    "    smb_mean = float(row[str(int_year)].iloc[0])\n",
    "    b = smb_mean - temp_mean #how far off is our guess?\n",
    "    entry = Function(Q).project(smb_expr + b) #adjust by this much\n",
    "    smb_dict[decimal_year] = entry"
   ]
  },
  {
   "cell_type": "markdown",
   "id": "df324c07-24c9-4276-9042-1579836ababf",
   "metadata": {},
   "source": [
    "## Invert for basal topography"
   ]
  },
  {
   "cell_type": "code",
   "execution_count": 9,
   "id": "ae84b6b6-5f2f-4c67-b472-1f3e8b3174ae",
   "metadata": {},
   "outputs": [
    {
     "name": "stderr",
     "output_type": "stream",
     "text": [
      "100%|██████████| 50/50 [01:28<00:00,  1.76s/it]\n"
     ]
    }
   ],
   "source": [
    "surface_1 = s_0\n",
    "surface_2 = s_2\n",
    "\n",
    "inversion_params = {\n",
    "    'model': flow_model,\n",
    "    'solver': flow_solver,\n",
    "    'mesh': mesh,\n",
    "    'fluidity': A,\n",
    "    'surface': surface_1,\n",
    "    'surface_2': surface_2,\n",
    "    'accumulation': smb_dict,\n",
    "}\n",
    "    \n",
    "inversion = solve_bed(K = 0.1, num_iterations = 50, thickness_guess = firedrake.Constant(200), velocity = u, \n",
    "                      **inversion_params)"
   ]
  },
  {
   "cell_type": "markdown",
   "id": "fa1d0a9c-358d-4c60-99f9-9dd7a51a7030",
   "metadata": {},
   "source": [
    "## Calving modeling\n",
    "\n",
    "We implement the simple calving law similar to that introduced by [Oerlemans and Nick, 2005](https://www.cambridge.org/core/journals/annals-of-glaciology/article/minimal-model-of-a-tidewater-glacier/C6B72F547D8C44CDAAAD337E1F2FC97F), in which the calving flux, in cubic meters per year, is given as \n",
    "\n",
    "$$ F_c = cdH_tw_t $$\n",
    "\n",
    "where $d$ is water depth, $H_t$ is terminus thickness, $w_t$ is the terminus width, and $c$ is a tuning parameter whose units are a$^{-1}$. We modify this to a calving rate $u_c$ by dividing out the width dimension, and normalizing via:\n",
    "\n",
    "$$u_c = c\\sqrt{dH_t}.$$\n",
    "\n",
    "We begine by specifying a given lake level, with water depth the difference between that level and the bed. At each timestep, we assume the glacier incrementally moves forward in accordance with its terminal velocity, and that it moves backward (if applicable) in accordance with the calving rate specified above. In order to test the ability of our model to also capture advance, we add an element of randomness to calving behaviour, expressing the likelihood of calving, in a given timestep, as:\n",
    "\n",
    "$$p_{calving} = 10\\Delta t f_{af}$$\n",
    "\n",
    "where $f_{af}$ is the fraction above flotation at the terminus (and if this value becomes negative, a calving event is imposed). If this probability criterion is not met in a given step, \"calving pressure\" accumulates, so that the next calving event is larger. Thus, calving events become smaller and more frequent as the terminus retreats from deep water, mimicking a transition to serac collapse of a well-grounded glacier. Meanwhile, the coarser the time resolution, the more likely a calving event is to occur in a given timestep. "
   ]
  },
  {
   "cell_type": "code",
   "execution_count": 10,
   "id": "51182154-8544-4f78-89d1-7513e34003df",
   "metadata": {},
   "outputs": [
    {
     "name": "stdout",
     "output_type": "stream",
     "text": [
      "initial water depth = 164.14551831315381 m\n"
     ]
    }
   ],
   "source": [
    "mesh_0 = mesh\n",
    "Δx = -300 #start slightly back from the end of the domain to permit some advance, if applicable\n",
    "x_t = mesh.length + Δx #the adjusted terminus coordinate \n",
    "\n",
    "mesh_1 = centerline_mesh(mesh = mesh_0, n_cells = n_cells, extra_length = Δx)\n",
    "\n",
    "s = surface_1.copy(deepcopy = True)\n",
    "bed_0 = inversion.bed\n",
    "Q = bed_0.function_space()\n",
    "bed = bed_0.copy(deepcopy = True)\n",
    "bed0_array = np.array(bed_0.at(mesh_0.X, tolerance = 1e-10))\n",
    "u = inversion.velocity\n",
    "H = Function(Q).project(s - bed)\n",
    "H_0 = Constant(H.at(0))\n",
    "\n",
    "w = s.at(x_t) - freeboard #water level is defined by the freeboard at the terminus\n",
    "d = Function(Q).project(w - bed)\n",
    "d = Function(Q).project(max_value(d, 0))\n",
    "a = Function(Q).project(smb_dict[surface_1.year + step*Δt])\n",
    "print(f'initial water depth = {d.at(mesh_1.length)} m')\n",
    "\n",
    "os.chdir(figures_path)\n",
    "calving_rates = []\n",
    "advance_rates = []\n",
    "fafs = []\n",
    "probabilities = []\n",
    "\n",
    "model_time = surface_2.year - surface_1.year\n",
    "\n",
    "x_1, x_2 = mesh_0.length - 2000, mesh_0.length\n",
    "y_1 = bed_0.at(mesh_0.length, tolerance = 1e-10) - 100\n",
    "y_2 = s.at(x_1, tolerance = 1e-10) + 100"
   ]
  },
  {
   "cell_type": "code",
   "execution_count": 11,
   "id": "d960b349-5312-41f8-b0b0-770cd3956ed2",
   "metadata": {},
   "outputs": [
    {
     "data": {
      "text/plain": [
       "Text(0.5, 1.0, 'initial setup')"
      ]
     },
     "execution_count": 11,
     "metadata": {},
     "output_type": "execute_result"
    },
    {
     "data": {
      "image/png": "[encoded data removed]",
      "text/plain": [
       "<Figure size 640x480 with 1 Axes>"
      ]
     },
     "metadata": {},
     "output_type": "display_data"
    }
   ],
   "source": [
    "bed_array = np.array(bed.at(mesh_1.X, tolerance = 1e-10))\n",
    "s_array = np.array(s.at(mesh_1.X, tolerance = 1e-10))\n",
    "water_mask = (w > bed0_array) # & (mesh_0.X > x_t)\n",
    "\n",
    "plt.figure()\n",
    "plt.fill_between(mesh_0.X, bed0_array, w, color = 'blue', where = water_mask, label = 'water')\n",
    "plt.plot(mesh_0.X, bed_0.at(mesh_0.X, tolerance = 1e-10), color = 'k', label = 'bed')\n",
    "plt.fill_between(mesh_1.X, bed_array, s_array, color = 'skyblue', label = 'glacier ice')\n",
    "plt.fill_between(mesh_0.X, y_1, bed0_array, color = '0.75')\n",
    "plt.legend(loc = 'upper right')\n",
    "plt.xlabel('longitudinal coordinate (m)')\n",
    "plt.ylabel('elevation (m)')\n",
    "plt.xlim(x_1, x_2)\n",
    "plt.ylim(y_1, y_2)\n",
    "plt.title('initial setup')\n",
    "# plt.grid()"
   ]
  },
  {
   "cell_type": "code",
   "execution_count": 12,
   "id": "9ae8a915-638f-4b3e-a68f-5b1e7a7a02c6",
   "metadata": {},
   "outputs": [
    {
     "name": "stderr",
     "output_type": "stream",
     "text": [
      " 99%|█████████▉| 99/100 [01:38<00:00,  1.05it/s]"
     ]
    },
    {
     "data": {
      "image/png": "[encoded data removed]",
      "text/plain": [
       "<Figure size 640x480 with 1 Axes>"
      ]
     },
     "metadata": {},
     "output_type": "display_data"
    },
    {
     "name": "stderr",
     "output_type": "stream",
     "text": [
      "100%|██████████| 100/100 [01:40<00:00,  1.00s/it]\n"
     ]
    }
   ],
   "source": [
    "num_timesteps = int(model_time/Δt)\n",
    "calving_pressure = 0\n",
    "\n",
    "for step in trange(num_timesteps):\n",
    "\n",
    "    H_t = H.at(x_t)\n",
    "    s_t = s.at(x_t)\n",
    "    d = Function(Q).project(w - bed)\n",
    "    d_t = d.at(x_t)\n",
    "    u_t = u.at(x_t)\n",
    "    f_af = (917/1000)*H_t/d_t - 1 #fraction above flotation\n",
    "    fafs.append(f_af)\n",
    "    probabilities.append(10*Δt*f_af)\n",
    "    advance_rates.append(u_t)\n",
    "    a_t = a.at(x_t)\n",
    "    \n",
    "    calving_pressure += c*np.sqrt(max(H_t*d_t, 0))\n",
    "    if np.random.random() > 10*Δt*f_af and f_af > 0:\n",
    "        u_c = 0 #no calving\n",
    "    elif f_af <= 0:\n",
    "        c_temp = (-2.6 - c) #effectively increase c to 2.6 to avoid the glacier advancing into superbuoyant conditions \n",
    "        calving_pressure += c_temp*np.sqrt(max(H_t*d_t, 0))\n",
    "        u_c = calving_pressure\n",
    "        calving_pressure = 0\n",
    "    else:\n",
    "        u_c = calving_pressure #calve the appropriate length - including any previously suppressed calving\n",
    "        calving_pressure = 0\n",
    "    calving_rates.append(u_c)\n",
    "    Δx = ((u_c + u_t)*Δt)\n",
    "    \n",
    "    mesh_2 = centerline_mesh(mesh = mesh_1, n_cells = n_cells, extra_length = Δx)\n",
    "    bed = extend_to_mesh(function = bed_0, mesh = mesh_2)\n",
    "    s = extend_to_mesh(function = s, mesh = mesh_2, ice_free_value = s_t)\n",
    "    H = extend_to_mesh(function = H, mesh = mesh_2, ice_free_value = H_t)\n",
    "    d = extend_to_mesh(function = d, mesh = mesh_2, ice_free_value = d_t)\n",
    "    u = extend_to_mesh(function = u, mesh = mesh_2, ice_free_value = u_t)\n",
    "    a = extend_to_mesh(function = smb_dict[surface_1.year + step*Δt], mesh = mesh_2, ice_free_value = a_t)\n",
    "    mesh_1 = mesh_2\n",
    "    x_t = mesh_1.length\n",
    "    \n",
    "    Q = s.function_space()\n",
    "    \n",
    "    flow_model = icepack.models.ShallowIce()\n",
    "    flow_solver = icepack.solvers.FlowSolver(flow_model, **opts)\n",
    "    \n",
    "    u = flow_solver.diagnostic_solve(velocity = u, thickness = H, surface = s, fluidity = A)\n",
    "    H = flow_solver.prognostic_solve(Δt, thickness = H, velocity = u, thickness_inflow = H_0, accumulation = a)\n",
    "    s = icepack.compute_surface(bed = bed, thickness = H)\n",
    "\n",
    "    bed_array = np.array(bed.at(mesh_1.X, tolerance = 1e-10))\n",
    "    s_array = np.array(s.at(mesh_1.X, tolerance = 1e-10))\n",
    "    water_mask = (w > bed0_array) # & (mesh_0.X > x_t)\n",
    "    \n",
    "    \n",
    "    plt.figure()\n",
    "    plt.fill_between(mesh_0.X, bed0_array, w, color = 'blue', where = water_mask, label = 'water')\n",
    "    plt.plot(mesh_0.X, bed_0.at(mesh_0.X, tolerance = 1e-10), color = 'k', label = 'bed')\n",
    "    plt.fill_between(mesh_1.X, bed_array, s_array, color = 'skyblue', label = 'glacier ice')\n",
    "    plt.fill_between(mesh_0.X, y_1, bed0_array, color = '0.75')\n",
    "    plt.legend(loc = 'upper right')\n",
    "    plt.xlabel('longitudinal coordinate (m)')\n",
    "    plt.ylabel('elevation (m)')\n",
    "    plt.xlim(x_1, x_2)\n",
    "    plt.ylim(y_1, y_2)\n",
    "    # plt.grid()\n",
    "    plt.savefig(f'{step}') \n",
    "    if step < num_timesteps - 1:\n",
    "        plt.close()\n",
    "    else:\n",
    "        plt.show()"
   ]
  }
 ],
 "metadata": {
  "kernelspec": {
   "display_name": "Python (dev2025)",
   "language": "python",
   "name": "dev2025"
  },
  "language_info": {
   "codemirror_mode": {
    "name": "ipython",
    "version": 3
   },
   "file_extension": ".py",
   "mimetype": "text/x-python",
   "name": "python",
   "nbconvert_exporter": "python",
   "pygments_lexer": "ipython3",
   "version": "3.12.10"
  }
 },
 "nbformat": 4,
 "nbformat_minor": 5
}
